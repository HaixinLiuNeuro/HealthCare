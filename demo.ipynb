{
 "cells": [
  {
   "cell_type": "code",
   "execution_count": 32,
   "metadata": {},
   "outputs": [],
   "source": [
    "# notebook to demo the project: loading data, feature engineering, data exploration and etc"
   ]
  },
  {
   "cell_type": "code",
   "execution_count": 33,
   "metadata": {},
   "outputs": [],
   "source": [
    "# import\n",
    "import utility as util\n",
    "import matplotlib.pyplot as plt\n",
    "import seaborn as sns\n",
    "import pandas as pd\n",
    "from datetime import datetime, timedelta"
   ]
  },
  {
   "cell_type": "code",
   "execution_count": 34,
   "metadata": {},
   "outputs": [
    {
     "data": {
      "application/vnd.microsoft.datawrangler.viewer.v0+json": {
       "columns": [
        {
         "name": "index",
         "rawType": "int64",
         "type": "integer"
        },
        {
         "name": "patient_id",
         "rawType": "int64",
         "type": "integer"
        },
        {
         "name": "age",
         "rawType": "int64",
         "type": "integer"
        },
        {
         "name": "gender",
         "rawType": "object",
         "type": "string"
        },
        {
         "name": "bmi",
         "rawType": "float64",
         "type": "float"
        },
        {
         "name": "blood_pressure",
         "rawType": "object",
         "type": "string"
        },
        {
         "name": "cholesterol_level",
         "rawType": "object",
         "type": "string"
        },
        {
         "name": "diabetes",
         "rawType": "object",
         "type": "string"
        },
        {
         "name": "heart_disease",
         "rawType": "object",
         "type": "string"
        },
        {
         "name": "last_visit_date",
         "rawType": "object",
         "type": "string"
        }
       ],
       "conversionMethod": "pd.DataFrame",
       "ref": "ddc8976d-9502-4e93-bf1e-b9ad9c8e282c",
       "rows": [
        [
         "0",
         "1",
         "45",
         "Male",
         "22.5",
         "120/80",
         "Normal",
         "No",
         "No",
         "2024-01-15"
        ],
        [
         "1",
         "2",
         "67",
         "Female",
         "31.2",
         "145/95",
         "High",
         "Yes",
         "Yes",
         "2023-11-20"
        ],
        [
         "2",
         "3",
         "34",
         "Male",
         "27.5",
         "118/76",
         "Normal",
         "No",
         "No",
         "2024-02-10"
        ],
        [
         "3",
         "4",
         "70",
         "Female",
         "35.6",
         "160/100",
         "High",
         "Yes",
         "Yes",
         "2023-08-25"
        ],
        [
         "4",
         "5",
         "50",
         "Male",
         "29.8",
         "130/85",
         "Borderline",
         "No",
         "No",
         "2023-12-30"
        ]
       ],
       "shape": {
        "columns": 9,
        "rows": 5
       }
      },
      "text/html": [
       "<div>\n",
       "<style scoped>\n",
       "    .dataframe tbody tr th:only-of-type {\n",
       "        vertical-align: middle;\n",
       "    }\n",
       "\n",
       "    .dataframe tbody tr th {\n",
       "        vertical-align: top;\n",
       "    }\n",
       "\n",
       "    .dataframe thead th {\n",
       "        text-align: right;\n",
       "    }\n",
       "</style>\n",
       "<table border=\"1\" class=\"dataframe\">\n",
       "  <thead>\n",
       "    <tr style=\"text-align: right;\">\n",
       "      <th></th>\n",
       "      <th>patient_id</th>\n",
       "      <th>age</th>\n",
       "      <th>gender</th>\n",
       "      <th>bmi</th>\n",
       "      <th>blood_pressure</th>\n",
       "      <th>cholesterol_level</th>\n",
       "      <th>diabetes</th>\n",
       "      <th>heart_disease</th>\n",
       "      <th>last_visit_date</th>\n",
       "    </tr>\n",
       "  </thead>\n",
       "  <tbody>\n",
       "    <tr>\n",
       "      <th>0</th>\n",
       "      <td>1</td>\n",
       "      <td>45</td>\n",
       "      <td>Male</td>\n",
       "      <td>22.5</td>\n",
       "      <td>120/80</td>\n",
       "      <td>Normal</td>\n",
       "      <td>No</td>\n",
       "      <td>No</td>\n",
       "      <td>2024-01-15</td>\n",
       "    </tr>\n",
       "    <tr>\n",
       "      <th>1</th>\n",
       "      <td>2</td>\n",
       "      <td>67</td>\n",
       "      <td>Female</td>\n",
       "      <td>31.2</td>\n",
       "      <td>145/95</td>\n",
       "      <td>High</td>\n",
       "      <td>Yes</td>\n",
       "      <td>Yes</td>\n",
       "      <td>2023-11-20</td>\n",
       "    </tr>\n",
       "    <tr>\n",
       "      <th>2</th>\n",
       "      <td>3</td>\n",
       "      <td>34</td>\n",
       "      <td>Male</td>\n",
       "      <td>27.5</td>\n",
       "      <td>118/76</td>\n",
       "      <td>Normal</td>\n",
       "      <td>No</td>\n",
       "      <td>No</td>\n",
       "      <td>2024-02-10</td>\n",
       "    </tr>\n",
       "    <tr>\n",
       "      <th>3</th>\n",
       "      <td>4</td>\n",
       "      <td>70</td>\n",
       "      <td>Female</td>\n",
       "      <td>35.6</td>\n",
       "      <td>160/100</td>\n",
       "      <td>High</td>\n",
       "      <td>Yes</td>\n",
       "      <td>Yes</td>\n",
       "      <td>2023-08-25</td>\n",
       "    </tr>\n",
       "    <tr>\n",
       "      <th>4</th>\n",
       "      <td>5</td>\n",
       "      <td>50</td>\n",
       "      <td>Male</td>\n",
       "      <td>29.8</td>\n",
       "      <td>130/85</td>\n",
       "      <td>Borderline</td>\n",
       "      <td>No</td>\n",
       "      <td>No</td>\n",
       "      <td>2023-12-30</td>\n",
       "    </tr>\n",
       "  </tbody>\n",
       "</table>\n",
       "</div>"
      ],
      "text/plain": [
       "   patient_id  age  gender   bmi blood_pressure cholesterol_level diabetes  \\\n",
       "0           1   45    Male  22.5         120/80            Normal       No   \n",
       "1           2   67  Female  31.2         145/95              High      Yes   \n",
       "2           3   34    Male  27.5         118/76            Normal       No   \n",
       "3           4   70  Female  35.6        160/100              High      Yes   \n",
       "4           5   50    Male  29.8         130/85        Borderline       No   \n",
       "\n",
       "  heart_disease last_visit_date  \n",
       "0            No      2024-01-15  \n",
       "1           Yes      2023-11-20  \n",
       "2            No      2024-02-10  \n",
       "3           Yes      2023-08-25  \n",
       "4            No      2023-12-30  "
      ]
     },
     "execution_count": 34,
     "metadata": {},
     "output_type": "execute_result"
    }
   ],
   "source": [
    "# generate simulated data\n",
    "df = util.generate_simulated_data()\n",
    "df.head()"
   ]
  },
  {
   "cell_type": "code",
   "execution_count": 35,
   "metadata": {},
   "outputs": [
    {
     "data": {
      "application/vnd.microsoft.datawrangler.viewer.v0+json": {
       "columns": [
        {
         "name": "index",
         "rawType": "object",
         "type": "string"
        },
        {
         "name": "patient_id",
         "rawType": "float64",
         "type": "float"
        },
        {
         "name": "age",
         "rawType": "float64",
         "type": "float"
        },
        {
         "name": "bmi",
         "rawType": "float64",
         "type": "float"
        }
       ],
       "conversionMethod": "pd.DataFrame",
       "ref": "da5cca12-e07a-4ab3-b81c-6be5070162ef",
       "rows": [
        [
         "count",
         "10.0",
         "10.0",
         "10.0"
        ],
        [
         "mean",
         "5.5",
         "53.0",
         "28.910000000000004"
        ],
        [
         "std",
         "3.0276503540974917",
         "16.485684025170983",
         "6.384434195760812"
        ],
        [
         "min",
         "1.0",
         "29.0",
         "18.7"
        ],
        [
         "25%",
         "3.25",
         "41.25",
         "24.925"
        ],
        [
         "50%",
         "5.5",
         "52.5",
         "28.65"
        ],
        [
         "75%",
         "7.75",
         "65.25",
         "32.55"
        ],
        [
         "max",
         "10.0",
         "80.0",
         "40.1"
        ]
       ],
       "shape": {
        "columns": 3,
        "rows": 8
       }
      },
      "text/html": [
       "<div>\n",
       "<style scoped>\n",
       "    .dataframe tbody tr th:only-of-type {\n",
       "        vertical-align: middle;\n",
       "    }\n",
       "\n",
       "    .dataframe tbody tr th {\n",
       "        vertical-align: top;\n",
       "    }\n",
       "\n",
       "    .dataframe thead th {\n",
       "        text-align: right;\n",
       "    }\n",
       "</style>\n",
       "<table border=\"1\" class=\"dataframe\">\n",
       "  <thead>\n",
       "    <tr style=\"text-align: right;\">\n",
       "      <th></th>\n",
       "      <th>patient_id</th>\n",
       "      <th>age</th>\n",
       "      <th>bmi</th>\n",
       "    </tr>\n",
       "  </thead>\n",
       "  <tbody>\n",
       "    <tr>\n",
       "      <th>count</th>\n",
       "      <td>10.00000</td>\n",
       "      <td>10.000000</td>\n",
       "      <td>10.000000</td>\n",
       "    </tr>\n",
       "    <tr>\n",
       "      <th>mean</th>\n",
       "      <td>5.50000</td>\n",
       "      <td>53.000000</td>\n",
       "      <td>28.910000</td>\n",
       "    </tr>\n",
       "    <tr>\n",
       "      <th>std</th>\n",
       "      <td>3.02765</td>\n",
       "      <td>16.485684</td>\n",
       "      <td>6.384434</td>\n",
       "    </tr>\n",
       "    <tr>\n",
       "      <th>min</th>\n",
       "      <td>1.00000</td>\n",
       "      <td>29.000000</td>\n",
       "      <td>18.700000</td>\n",
       "    </tr>\n",
       "    <tr>\n",
       "      <th>25%</th>\n",
       "      <td>3.25000</td>\n",
       "      <td>41.250000</td>\n",
       "      <td>24.925000</td>\n",
       "    </tr>\n",
       "    <tr>\n",
       "      <th>50%</th>\n",
       "      <td>5.50000</td>\n",
       "      <td>52.500000</td>\n",
       "      <td>28.650000</td>\n",
       "    </tr>\n",
       "    <tr>\n",
       "      <th>75%</th>\n",
       "      <td>7.75000</td>\n",
       "      <td>65.250000</td>\n",
       "      <td>32.550000</td>\n",
       "    </tr>\n",
       "    <tr>\n",
       "      <th>max</th>\n",
       "      <td>10.00000</td>\n",
       "      <td>80.000000</td>\n",
       "      <td>40.100000</td>\n",
       "    </tr>\n",
       "  </tbody>\n",
       "</table>\n",
       "</div>"
      ],
      "text/plain": [
       "       patient_id        age        bmi\n",
       "count    10.00000  10.000000  10.000000\n",
       "mean      5.50000  53.000000  28.910000\n",
       "std       3.02765  16.485684   6.384434\n",
       "min       1.00000  29.000000  18.700000\n",
       "25%       3.25000  41.250000  24.925000\n",
       "50%       5.50000  52.500000  28.650000\n",
       "75%       7.75000  65.250000  32.550000\n",
       "max      10.00000  80.000000  40.100000"
      ]
     },
     "execution_count": 35,
     "metadata": {},
     "output_type": "execute_result"
    }
   ],
   "source": [
    "df.describe()"
   ]
  },
  {
   "cell_type": "markdown",
   "metadata": {},
   "source": [
    "📌 Risk Calculation Criteria:\n",
    "Factor\tCondition\tPoints\n",
    "Age\t> 60\t+2\n",
    "BMI\t> 30 (Obese)\t+2\n",
    "Blood Pressure\tSystolic > 140 OR Diastolic > 90\t+2\n",
    "Cholesterol Level\t\"High\"\t+2\n",
    "Diabetes\t\"Yes\"\t+3\n",
    "Heart Disease\t\"Yes\"\t+3\n",
    "📌 Total Risk Score Range: 0 (low) - 12 (high)"
   ]
  },
  {
   "cell_type": "code",
   "execution_count": 36,
   "metadata": {},
   "outputs": [
    {
     "data": {
      "application/vnd.microsoft.datawrangler.viewer.v0+json": {
       "columns": [
        {
         "name": "index",
         "rawType": "int64",
         "type": "integer"
        },
        {
         "name": "patient_id",
         "rawType": "int64",
         "type": "integer"
        },
        {
         "name": "age",
         "rawType": "int64",
         "type": "integer"
        },
        {
         "name": "gender",
         "rawType": "object",
         "type": "string"
        },
        {
         "name": "bmi",
         "rawType": "float64",
         "type": "float"
        },
        {
         "name": "cholesterol_level",
         "rawType": "object",
         "type": "string"
        },
        {
         "name": "diabetes",
         "rawType": "object",
         "type": "string"
        },
        {
         "name": "heart_disease",
         "rawType": "object",
         "type": "string"
        },
        {
         "name": "last_visit_date",
         "rawType": "datetime64[ns]",
         "type": "datetime"
        },
        {
         "name": "systolic_bp",
         "rawType": "int64",
         "type": "integer"
        },
        {
         "name": "diastolic_bp",
         "rawType": "int64",
         "type": "integer"
        },
        {
         "name": "risk_score",
         "rawType": "int64",
         "type": "integer"
        },
        {
         "name": "risk_level",
         "rawType": "category",
         "type": "unknown"
        }
       ],
       "conversionMethod": "pd.DataFrame",
       "ref": "074533c5-9761-442f-a153-03643e5aff8d",
       "rows": [
        [
         "0",
         "1",
         "45",
         "Male",
         "22.5",
         "Normal",
         "No",
         "No",
         "2024-01-15 00:00:00",
         "120",
         "80",
         "0",
         "Low"
        ],
        [
         "1",
         "2",
         "67",
         "Female",
         "31.2",
         "High",
         "Yes",
         "Yes",
         "2023-11-20 00:00:00",
         "145",
         "95",
         "12",
         "High"
        ],
        [
         "2",
         "3",
         "34",
         "Male",
         "27.5",
         "Normal",
         "No",
         "No",
         "2024-02-10 00:00:00",
         "118",
         "76",
         "0",
         "Low"
        ],
        [
         "3",
         "4",
         "70",
         "Female",
         "35.6",
         "High",
         "Yes",
         "Yes",
         "2023-08-25 00:00:00",
         "160",
         "100",
         "12",
         "High"
        ],
        [
         "4",
         "5",
         "50",
         "Male",
         "29.8",
         "Borderline",
         "No",
         "No",
         "2023-12-30 00:00:00",
         "130",
         "85",
         "0",
         "Low"
        ]
       ],
       "shape": {
        "columns": 12,
        "rows": 5
       }
      },
      "text/html": [
       "<div>\n",
       "<style scoped>\n",
       "    .dataframe tbody tr th:only-of-type {\n",
       "        vertical-align: middle;\n",
       "    }\n",
       "\n",
       "    .dataframe tbody tr th {\n",
       "        vertical-align: top;\n",
       "    }\n",
       "\n",
       "    .dataframe thead th {\n",
       "        text-align: right;\n",
       "    }\n",
       "</style>\n",
       "<table border=\"1\" class=\"dataframe\">\n",
       "  <thead>\n",
       "    <tr style=\"text-align: right;\">\n",
       "      <th></th>\n",
       "      <th>patient_id</th>\n",
       "      <th>age</th>\n",
       "      <th>gender</th>\n",
       "      <th>bmi</th>\n",
       "      <th>cholesterol_level</th>\n",
       "      <th>diabetes</th>\n",
       "      <th>heart_disease</th>\n",
       "      <th>last_visit_date</th>\n",
       "      <th>systolic_bp</th>\n",
       "      <th>diastolic_bp</th>\n",
       "      <th>risk_score</th>\n",
       "      <th>risk_level</th>\n",
       "    </tr>\n",
       "  </thead>\n",
       "  <tbody>\n",
       "    <tr>\n",
       "      <th>0</th>\n",
       "      <td>1</td>\n",
       "      <td>45</td>\n",
       "      <td>Male</td>\n",
       "      <td>22.5</td>\n",
       "      <td>Normal</td>\n",
       "      <td>No</td>\n",
       "      <td>No</td>\n",
       "      <td>2024-01-15</td>\n",
       "      <td>120</td>\n",
       "      <td>80</td>\n",
       "      <td>0</td>\n",
       "      <td>Low</td>\n",
       "    </tr>\n",
       "    <tr>\n",
       "      <th>1</th>\n",
       "      <td>2</td>\n",
       "      <td>67</td>\n",
       "      <td>Female</td>\n",
       "      <td>31.2</td>\n",
       "      <td>High</td>\n",
       "      <td>Yes</td>\n",
       "      <td>Yes</td>\n",
       "      <td>2023-11-20</td>\n",
       "      <td>145</td>\n",
       "      <td>95</td>\n",
       "      <td>12</td>\n",
       "      <td>High</td>\n",
       "    </tr>\n",
       "    <tr>\n",
       "      <th>2</th>\n",
       "      <td>3</td>\n",
       "      <td>34</td>\n",
       "      <td>Male</td>\n",
       "      <td>27.5</td>\n",
       "      <td>Normal</td>\n",
       "      <td>No</td>\n",
       "      <td>No</td>\n",
       "      <td>2024-02-10</td>\n",
       "      <td>118</td>\n",
       "      <td>76</td>\n",
       "      <td>0</td>\n",
       "      <td>Low</td>\n",
       "    </tr>\n",
       "    <tr>\n",
       "      <th>3</th>\n",
       "      <td>4</td>\n",
       "      <td>70</td>\n",
       "      <td>Female</td>\n",
       "      <td>35.6</td>\n",
       "      <td>High</td>\n",
       "      <td>Yes</td>\n",
       "      <td>Yes</td>\n",
       "      <td>2023-08-25</td>\n",
       "      <td>160</td>\n",
       "      <td>100</td>\n",
       "      <td>12</td>\n",
       "      <td>High</td>\n",
       "    </tr>\n",
       "    <tr>\n",
       "      <th>4</th>\n",
       "      <td>5</td>\n",
       "      <td>50</td>\n",
       "      <td>Male</td>\n",
       "      <td>29.8</td>\n",
       "      <td>Borderline</td>\n",
       "      <td>No</td>\n",
       "      <td>No</td>\n",
       "      <td>2023-12-30</td>\n",
       "      <td>130</td>\n",
       "      <td>85</td>\n",
       "      <td>0</td>\n",
       "      <td>Low</td>\n",
       "    </tr>\n",
       "  </tbody>\n",
       "</table>\n",
       "</div>"
      ],
      "text/plain": [
       "   patient_id  age  gender   bmi cholesterol_level diabetes heart_disease  \\\n",
       "0           1   45    Male  22.5            Normal       No            No   \n",
       "1           2   67  Female  31.2              High      Yes           Yes   \n",
       "2           3   34    Male  27.5            Normal       No            No   \n",
       "3           4   70  Female  35.6              High      Yes           Yes   \n",
       "4           5   50    Male  29.8        Borderline       No            No   \n",
       "\n",
       "  last_visit_date  systolic_bp  diastolic_bp  risk_score risk_level  \n",
       "0      2024-01-15          120            80           0        Low  \n",
       "1      2023-11-20          145            95          12       High  \n",
       "2      2024-02-10          118            76           0        Low  \n",
       "3      2023-08-25          160           100          12       High  \n",
       "4      2023-12-30          130            85           0        Low  "
      ]
     },
     "execution_count": 36,
     "metadata": {},
     "output_type": "execute_result"
    }
   ],
   "source": [
    "# simple feature engineering\n",
    "# last visit date\n",
    "df[\"last_visit_date\"] = pd.to_datetime(df[\"last_visit_date\"])\n",
    "\n",
    "# parse blood pressure\n",
    "df[[\"systolic_bp\", \"diastolic_bp\"]] = df[\"blood_pressure\"].str.split(\"/\",expand=True).astype(int)\n",
    "df.drop(columns=[\"blood_pressure\"], inplace=True)\n",
    "\n",
    "# calculate risk factor\n",
    "df[\"risk_score\"] = df.apply(util.calculate_risk, axis=1)\n",
    "# use risk score to classify risk level: 0-4 low, 5-8 medium, 9-12 high\n",
    "df[\"risk_level\"] = pd.cut(df[\"risk_score\"], bins=[0, 4, 8, 12], labels=[\"Low\", \"Medium\", \"High\"], include_lowest=True)\n",
    "\n",
    "df.head()"
   ]
  },
  {
   "cell_type": "code",
   "execution_count": 37,
   "metadata": {},
   "outputs": [
    {
     "data": {
      "image/png": "[encoded data removed]",
      "text/plain": [
       "<Figure size 800x500 with 1 Axes>"
      ]
     },
     "metadata": {},
     "output_type": "display_data"
    },
    {
     "data": {
      "image/png": "[encoded data removed]",
      "text/plain": [
       "<Figure size 600x400 with 1 Axes>"
      ]
     },
     "metadata": {},
     "output_type": "display_data"
    },
    {
     "data": {
      "image/png": "[encoded data removed]",
      "text/plain": [
       "<Figure size 800x600 with 2 Axes>"
      ]
     },
     "metadata": {},
     "output_type": "display_data"
    }
   ],
   "source": [
    "# visualize data \n",
    "\n",
    "plt.figure(figsize=(8,5))\n",
    "sns.histplot(df[\"risk_score\"], bins=12, kde=True, color=\"blue\")\n",
    "plt.xlabel(\"Risk Score\")\n",
    "plt.ylabel(\"Count of Patients\")\n",
    "plt.title(\"Distribution of Risk Scores\")\n",
    "\n",
    "# Risk levels\n",
    "plt.figure(figsize=(6,4))\n",
    "sns.countplot(x=\"risk_level\", hue=\"risk_level\", data=df, palette=\"coolwarm\")\n",
    "plt.xlabel(\"Risk\")\n",
    "plt.ylabel(\"Count of Patients\")\n",
    "plt.title(\"Patients in Low, Medium, High Risk Categories\")\n",
    "plt.show()\n",
    "\n",
    "# correlation map\n",
    "plt.figure(figsize=(8, 6))\n",
    "sns.heatmap(df[[\"age\", \"bmi\", \"systolic_bp\", \"diastolic_bp\", \"risk_score\"]].corr(), annot=True, cmap=\"coolwarm\", fmt=\".2f\")\n",
    "plt.title(\"Correlation Between Health Indicators\")\n",
    "plt.show()\n"
   ]
  },
  {
   "cell_type": "code",
   "execution_count": 38,
   "metadata": {},
   "outputs": [
    {
     "name": "stdout",
     "output_type": "stream",
     "text": [
      "Time in use: 2025-02-16 22:50:08.817232. Days as cutoff: 180\n",
      "   patient_id  age  gender   bmi cholesterol_level diabetes heart_disease  \\\n",
      "1           2   67  Female  31.2              High      Yes           Yes   \n",
      "3           4   70  Female  35.6              High      Yes           Yes   \n",
      "6           7   80    Male  40.1              High      Yes           Yes   \n",
      "\n",
      "  last_visit_date  systolic_bp  diastolic_bp  risk_score risk_level  \n",
      "1      2023-11-20          145            95          12       High  \n",
      "3      2023-08-25          160           100          12       High  \n",
      "6      2023-05-18          170           110          12       High  \n"
     ]
    }
   ],
   "source": [
    "# Use risk score threshold to identify patients who should be pioritized for follow-up\n",
    "# if they visit the doctor longer than 6 months ago, they need to be reminded\n",
    "# use today as the date to check status, can be replaced with any other date\n",
    "\n",
    "time2use = datetime.today()\n",
    "days_as_cutoff = 180\n",
    "print(f'Time in use: {time2use}. Days as cutoff: {days_as_cutoff}')\n",
    "\n",
    "cutoff_date = time2use - timedelta(days=180)\n",
    "\n",
    "high_risk_patients = df[(df[\"risk_score\"] >= 9) & (df[\"last_visit_date\"] < cutoff_date)]\n",
    "\n",
    "print(high_risk_patients)\n"
   ]
  },
  {
   "cell_type": "code",
   "execution_count": 39,
   "metadata": {},
   "outputs": [],
   "source": [
    "# advanced method\n",
    "# code categorical data\n",
    "# normalize numerical values\n",
    "# use ML\n",
    "\n",
    "from sklearn.model_selection import train_test_split\n",
    "from sklearn.preprocessing import StandardScaler, LabelEncoder\n",
    "\n",
    "df_encoded = df.copy()\n",
    "\n",
    "# encode Yes/No varaibles: diabetes, heart_disease\n",
    "yes_no_category = [\"diabetes\", \"heart_disease\"]\n",
    "for col in yes_no_category:\n",
    "    df_encoded[col] = df_encoded[col].map({\"No\": 0, \"Yes\": 1})\n",
    "\n",
    "# encode cholestrerol level\n",
    "df_encoded[\"cholesterol_level\"] = df_encoded[\"cholesterol_level\"].map({\"Normal\": 0, \"Borderline\": 1, \"High\": 2})\n",
    "\n",
    "# convert risk level into classification target\n",
    "df_encoded[\"high_risk\"] = df[\"risk_level\"].map({\"Low\": 0, \"Medium\": 0, \"High\": 1})\n",
    "\n",
    "# feature and target\n",
    "features = [\"age\", \"bmi\", \"systolic_bp\", \"diastolic_bp\", \"cholesterol_level\", \"diabetes\", \"heart_disease\"]\n",
    "X = df_encoded[features]\n",
    "Y = df_encoded[\"high_risk\"]\n",
    "\n"
   ]
  },
  {
   "cell_type": "code",
   "execution_count": 42,
   "metadata": {},
   "outputs": [],
   "source": [
    "# normalize numerical features: age, bmi, bp\n",
    "scaler = StandardScaler()\n",
    "X_scaled = scaler.fit_transform(X)\n",
    "\n",
    "# split into training and testing 8-2\n",
    "X_train, X_test, y_train, y_test = train_test_split(X_scaled, Y, test_size=0.2, random_state=40, stratify=Y)"
   ]
  },
  {
   "cell_type": "code",
   "execution_count": 47,
   "metadata": {},
   "outputs": [],
   "source": [
    "# Train classification models\n",
    "# Logistic Regression, Random Forest, Support Vector Machine\n",
    "\n",
    "# imports\n",
    "from sklearn.linear_model import LogisticRegression\n",
    "from sklearn.ensemble import RandomForestClassifier\n",
    "from sklearn.svm import SVC\n",
    "from sklearn.metrics import accuracy_score, classification_report, confusion_matrix\n",
    "\n",
    "# Train logisitic regression\n",
    "log_model = LogisticRegression()\n",
    "log_model.fit(X_train, y_train)\n",
    "log_preds = log_model.predict(X_test)\n",
    "\n",
    "# Train random Forest\n",
    "rf_model = RandomForestClassifier(n_estimators=100, random_state=40)\n",
    "rf_model.fit(X_train, y_train)\n",
    "rf_preds = rf_model.predict(X_test)\n",
    "\n",
    "# Train SVM\n",
    "svm_model = SVC(kernel=\"linear\", probability=True)\n",
    "svm_model.fit(X_train, y_train)\n",
    "svm_preds = svm_model.predict(X_test)\n"
   ]
  },
  {
   "cell_type": "code",
   "execution_count": 48,
   "metadata": {},
   "outputs": [
    {
     "name": "stdout",
     "output_type": "stream",
     "text": [
      "📊 Logistic Regression Performance:\n",
      "              precision    recall  f1-score   support\n",
      "\n",
      "           0       0.50      1.00      0.67         1\n",
      "           1       0.00      0.00      0.00         1\n",
      "\n",
      "    accuracy                           0.50         2\n",
      "   macro avg       0.25      0.50      0.33         2\n",
      "weighted avg       0.25      0.50      0.33         2\n",
      "\n",
      "🌲 Random Forest Performance:\n",
      "              precision    recall  f1-score   support\n",
      "\n",
      "           0       0.50      1.00      0.67         1\n",
      "           1       0.00      0.00      0.00         1\n",
      "\n",
      "    accuracy                           0.50         2\n",
      "   macro avg       0.25      0.50      0.33         2\n",
      "weighted avg       0.25      0.50      0.33         2\n",
      "\n",
      "💡 SVM Performance:\n",
      "              precision    recall  f1-score   support\n",
      "\n",
      "           0       0.50      1.00      0.67         1\n",
      "           1       0.00      0.00      0.00         1\n",
      "\n",
      "    accuracy                           0.50         2\n",
      "   macro avg       0.25      0.50      0.33         2\n",
      "weighted avg       0.25      0.50      0.33         2\n",
      "\n"
     ]
    },
    {
     "name": "stderr",
     "output_type": "stream",
     "text": [
      "c:\\ProgramData\\miniconda3\\Lib\\site-packages\\sklearn\\metrics\\_classification.py:1565: UndefinedMetricWarning: Precision is ill-defined and being set to 0.0 in labels with no predicted samples. Use `zero_division` parameter to control this behavior.\n",
      "  _warn_prf(average, modifier, f\"{metric.capitalize()} is\", len(result))\n",
      "c:\\ProgramData\\miniconda3\\Lib\\site-packages\\sklearn\\metrics\\_classification.py:1565: UndefinedMetricWarning: Precision is ill-defined and being set to 0.0 in labels with no predicted samples. Use `zero_division` parameter to control this behavior.\n",
      "  _warn_prf(average, modifier, f\"{metric.capitalize()} is\", len(result))\n",
      "c:\\ProgramData\\miniconda3\\Lib\\site-packages\\sklearn\\metrics\\_classification.py:1565: UndefinedMetricWarning: Precision is ill-defined and being set to 0.0 in labels with no predicted samples. Use `zero_division` parameter to control this behavior.\n",
      "  _warn_prf(average, modifier, f\"{metric.capitalize()} is\", len(result))\n",
      "c:\\ProgramData\\miniconda3\\Lib\\site-packages\\sklearn\\metrics\\_classification.py:1565: UndefinedMetricWarning: Precision is ill-defined and being set to 0.0 in labels with no predicted samples. Use `zero_division` parameter to control this behavior.\n",
      "  _warn_prf(average, modifier, f\"{metric.capitalize()} is\", len(result))\n",
      "c:\\ProgramData\\miniconda3\\Lib\\site-packages\\sklearn\\metrics\\_classification.py:1565: UndefinedMetricWarning: Precision is ill-defined and being set to 0.0 in labels with no predicted samples. Use `zero_division` parameter to control this behavior.\n",
      "  _warn_prf(average, modifier, f\"{metric.capitalize()} is\", len(result))\n",
      "c:\\ProgramData\\miniconda3\\Lib\\site-packages\\sklearn\\metrics\\_classification.py:1565: UndefinedMetricWarning: Precision is ill-defined and being set to 0.0 in labels with no predicted samples. Use `zero_division` parameter to control this behavior.\n",
      "  _warn_prf(average, modifier, f\"{metric.capitalize()} is\", len(result))\n",
      "c:\\ProgramData\\miniconda3\\Lib\\site-packages\\sklearn\\metrics\\_classification.py:1565: UndefinedMetricWarning: Precision is ill-defined and being set to 0.0 in labels with no predicted samples. Use `zero_division` parameter to control this behavior.\n",
      "  _warn_prf(average, modifier, f\"{metric.capitalize()} is\", len(result))\n",
      "c:\\ProgramData\\miniconda3\\Lib\\site-packages\\sklearn\\metrics\\_classification.py:1565: UndefinedMetricWarning: Precision is ill-defined and being set to 0.0 in labels with no predicted samples. Use `zero_division` parameter to control this behavior.\n",
      "  _warn_prf(average, modifier, f\"{metric.capitalize()} is\", len(result))\n",
      "c:\\ProgramData\\miniconda3\\Lib\\site-packages\\sklearn\\metrics\\_classification.py:1565: UndefinedMetricWarning: Precision is ill-defined and being set to 0.0 in labels with no predicted samples. Use `zero_division` parameter to control this behavior.\n",
      "  _warn_prf(average, modifier, f\"{metric.capitalize()} is\", len(result))\n"
     ]
    }
   ],
   "source": [
    "# Evaluate Models\n",
    "print(\"📊 Logistic Regression Performance:\")\n",
    "print(classification_report(y_test, log_preds))\n",
    "\n",
    "print(\"🌲 Random Forest Performance:\")\n",
    "print(classification_report(y_test, rf_preds))\n",
    "\n",
    "print(\"💡 SVM Performance:\")\n",
    "print(classification_report(y_test, svm_preds))"
   ]
  }
 ],
 "metadata": {
  "kernelspec": {
   "display_name": "base",
   "language": "python",
   "name": "python3"
  },
  "language_info": {
   "codemirror_mode": {
    "name": "ipython",
    "version": 3
   },
   "file_extension": ".py",
   "mimetype": "text/x-python",
   "name": "python",
   "nbconvert_exporter": "python",
   "pygments_lexer": "ipython3",
   "version": "3.12.8"
  }
 },
 "nbformat": 4,
 "nbformat_minor": 2
}
